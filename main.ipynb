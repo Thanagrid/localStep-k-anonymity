{
 "cells": [
  {
   "cell_type": "code",
   "execution_count": 241,
   "id": "0b208889",
   "metadata": {},
   "outputs": [],
   "source": [
    "# import pandas\n",
    "import pandas as pd"
   ]
  },
  {
   "cell_type": "code",
   "execution_count": 242,
   "id": "2662d298",
   "metadata": {},
   "outputs": [
    {
     "name": "stdout",
     "output_type": "stream",
     "text": [
      "       0   1       2                 3                   4      5\n",
      "0  White  39    Male         State-gov       Never-married  <=50K\n",
      "1  White  50    Male  Self-emp-not-inc  Married-civ-spouse  <=50K\n",
      "2  White  38    Male           Private            Divorced  <=50K\n",
      "3  Black  53    Male           Private  Married-civ-spouse  <=50K\n",
      "4  Black  28  Female           Private  Married-civ-spouse  <=50K\n",
      "(30725, 6)\n"
     ]
    }
   ],
   "source": [
    "# อ่านไฟล์ Dataset\n",
    "\n",
    "# ระบุ path\n",
    "path = \"Data.txt\"\n",
    "\n",
    "# อ่านมาเป็น df\n",
    "df = pd.read_csv(path, header=None)\n",
    "\n",
    "# ตรวจดูตัวอย่าง 5 แถวแรก\n",
    "print(df.head())\n",
    "\n",
    "# ดูขนาดตาราง (แถว, คอลัมน์)\n",
    "print(df.shape)\n"
   ]
  },
  {
   "cell_type": "code",
   "execution_count": 243,
   "id": "cde8184d",
   "metadata": {},
   "outputs": [
    {
     "name": "stdout",
     "output_type": "stream",
     "text": [
      "    Race  Age     Sex         Workclass      Marital-status Income/year\n",
      "0  White   39    Male         State-gov       Never-married       <=50K\n",
      "1  White   50    Male  Self-emp-not-inc  Married-civ-spouse       <=50K\n",
      "2  White   38    Male           Private            Divorced       <=50K\n",
      "3  Black   53    Male           Private  Married-civ-spouse       <=50K\n",
      "4  Black   28  Female           Private  Married-civ-spouse       <=50K\n"
     ]
    }
   ],
   "source": [
    "# กำหนด header\n",
    "cols = [\"Race\", \"Age\", \"Sex\", \"Workclass\", \"Marital-status\", \"Income/year\"]\n",
    "\n",
    "# กำหนด header ให้ DataFrame\n",
    "df.columns = cols\n",
    "\n",
    "# ตรวจสอบ\n",
    "print(df.head())"
   ]
  },
  {
   "cell_type": "code",
   "execution_count": 244,
   "id": "c1ba69fd",
   "metadata": {},
   "outputs": [
    {
     "name": "stdout",
     "output_type": "stream",
     "text": [
      "    Race  Age     Sex         Workclass      Marital-status\n",
      "0  White   39    Male         State-gov       Never-married\n",
      "1  White   50    Male  Self-emp-not-inc  Married-civ-spouse\n",
      "2  White   38    Male           Private            Divorced\n",
      "3  Black   53    Male           Private  Married-civ-spouse\n",
      "4  Black   28  Female           Private  Married-civ-spouse\n"
     ]
    }
   ],
   "source": [
    "# ตัด attribute \"Income/year\" ออก \n",
    "df.drop(columns=[\"Income/year\"], inplace=True)\n",
    "\n",
    "# ตรวจสอบ\n",
    "print(df.head())"
   ]
  },
  {
   "cell_type": "code",
   "execution_count": 245,
   "id": "3d5e9cdb",
   "metadata": {},
   "outputs": [],
   "source": [
    "# กำหนดประเภท Attribute\n",
    "SENSITIVE_ATTRS = [\"Workclass\"] \n",
    "QI_ATTRS = [c for c in df.columns if c not in SENSITIVE_ATTRS]"
   ]
  },
  {
   "cell_type": "code",
   "execution_count": 246,
   "id": "2c147776",
   "metadata": {},
   "outputs": [],
   "source": [
    "# กำหนด VGH\n",
    "\n",
    "# AGE\n",
    "def vgh_age(a, level: int):\n",
    "    # level: 0=exact, 1=1-25/26-50/51-75/76-100, 2=1-50/51-100, 3='*'\n",
    "    if level == 3: return \"*\"\n",
    "    if level == 2: return \"1-50\" if a in {\"1-25\", \"26-50\"} else \"51-100\"\n",
    "    if level == 1:\n",
    "        a = int(a)\n",
    "        if   1 <= a <= 25:  return \"1-25\"\n",
    "        if  26 <= a <= 50:  return \"26-50\"\n",
    "        if  51 <= a <= 75:  return \"51-75\"\n",
    "        return \"76-100\"\n",
    "    if level == 0: return str(a)\n",
    "\n",
    "# SEX\n",
    "def vgh_sex(s, level: int):\n",
    "    # level: 0=Female/Male, 1='*'\n",
    "    if level == 1: return \"*\"\n",
    "    if level == 0: return str(s)\n",
    "\n",
    "# RACE\n",
    "def vgh_race(r, level: int):\n",
    "    # level: 0=5 หมวด, 1=รวม {Amer-Indian-Eskimo,Other}, 2=White/Non-White, 3='*'\n",
    "    r = str(r)\n",
    "    if level == 3: return \"*\"\n",
    "    if level == 2: return \"White\" if r == \"White\" else \"Non-White\"\n",
    "    if level == 1: return \"Amer-Indian-Eskimo+Other\" if r in {\"Amer-Indian-Eskimo\", \"Other\"} else r\n",
    "    if level == 0: return str(r)\n",
    "\n",
    "# MARITAL\n",
    "def vgh_marital(m, level: int):\n",
    "    # level: 0=7 ค่าเดิม, 1=Married/Previously-married/Never-married, 2=Married/Not-married, 3='*'\n",
    "    m = str(m)\n",
    "    if level == 3: return \"*\"\n",
    "    if level == 2: return \"Married\" if m in {\"Married\"} else \"Not-married\"\n",
    "    if level == 1:\n",
    "        if m in {\"Married-civ-spouse\", \"Married-AF-spouse\"}: return \"Married\"\n",
    "        if m in {\"Divorced\", \"Separated\", \"Widowed\", \"Married-spouse-absent\"}: return \"Previously-married\"\n",
    "        return \"Never-married\"\n",
    "    if level == 0: return str(m)\n",
    "\n",
    "# จำกัดระดับสูงสุดของแต่ละ QI Attribute (ตาม VGH/DGH ที่กำหนด)\n",
    "MAX_LVL = {\n",
    "    \"Age\": 3,              # 0..3\n",
    "    \"Race\": 3,             # 0..3\n",
    "    \"Marital-status\": 3,   # 0..3\n",
    "    \"Sex\": 1,              # 0..1\n",
    "}"
   ]
  },
  {
   "cell_type": "code",
   "execution_count": 247,
   "id": "84c2e0a5",
   "metadata": {},
   "outputs": [],
   "source": [
    "# กำหนด K\n",
    "TARGET_K = 4"
   ]
  },
  {
   "cell_type": "code",
   "execution_count": 248,
   "id": "20aa5954",
   "metadata": {},
   "outputs": [],
   "source": [
    "# นำข้อมูลไปใส่ตัวแปรสำหรับดำเนินการ\n",
    "df_process = df.copy()\n",
    "\n",
    "# กำหนดระดับ Domain ให้แต่ละุ record เริ่มต้นเป็น 0\n",
    "df_process[\"A_lvl\"] = 0\n",
    "df_process[\"R_lvl\"] = 0\n",
    "df_process[\"M_lvl\"] = 0\n",
    "df_process[\"S_lvl\"] = 0\n",
    "\n",
    "# ตัวแปรเก็บข้อมูล record ที่ผ่าน k แล้ว\n",
    "df_success = pd.DataFrame(columns=df_process.columns)"
   ]
  },
  {
   "cell_type": "code",
   "execution_count": 249,
   "id": "9f405887",
   "metadata": {},
   "outputs": [],
   "source": [
    "# Function ตรวจค่า K และจับแยก\n",
    "def split_by_k(df_proc, df_succ, k):\n",
    "    # จับ EC\n",
    "    ec = df_proc.groupby(QI_ATTRS, dropna=False).size().rename(\"ec_size\").reset_index()\n",
    "    tmp = df_proc.merge(ec, on=QI_ATTRS, how=\"left\")\n",
    "    # Mark Record ที่ผ่านค่า k\n",
    "    mask_pass = tmp[\"ec_size\"] >= k\n",
    "    # แยก Record ที่ผ่านค่า k ไปไว้ใน df_succ\n",
    "    df_succ = pd.concat([df_succ, tmp.loc[mask_pass].drop(columns=[\"ec_size\"])], ignore_index=True)\n",
    "    # ที่เหลือใส่ใน df_proc\n",
    "    df_proc = tmp.loc[~mask_pass].drop(columns=[\"ec_size\"]).copy()\n",
    "    return df_proc, df_succ"
   ]
  },
  {
   "cell_type": "code",
   "execution_count": 250,
   "id": "a9f266b5",
   "metadata": {},
   "outputs": [
    {
     "name": "stdout",
     "output_type": "stream",
     "text": [
      "[รอบที่่ 1] ผ่าน 29288 - ไม่ผ่าน 1437\n",
      "[รอบที่่ 2] ผ่าน 30607 - ไม่ผ่าน 118\n",
      "[รอบที่่ 3] ผ่าน 30620 - ไม่ผ่าน 105\n",
      "[รอบที่่ 4] ผ่าน 30656 - ไม่ผ่าน 69\n",
      "[รอบที่่ 5] ผ่าน 30679 - ไม่ผ่าน 46\n",
      "[รอบที่่ 6] ผ่าน 30689 - ไม่ผ่าน 36\n",
      "[รอบที่่ 7] ผ่าน 30705 - ไม่ผ่าน 20\n",
      "[รอบที่่ 8] ผ่าน 30711 - ไม่ผ่าน 14\n",
      "[รอบที่่ 9] ผ่าน 30723 - ไม่ผ่าน 2\n",
      "!!!! Record ที่ยังไม่ผ่านค่า K เหลือ 2 แถว ซึ่งน้อยกว่าค่า K = 4 -> ลบ\n",
      "------------------------------------------------------------------------------\n",
      "เสร็จสิ้น!! แบบมีการลบบาง Record\n",
      "        Race Age     Sex         Workclass      Marital-status\n",
      "0      White  39    Male         State-gov       Never-married\n",
      "1      White  50    Male  Self-emp-not-inc  Married-civ-spouse\n",
      "2      White  38    Male           Private            Divorced\n",
      "3      Black  53    Male           Private  Married-civ-spouse\n",
      "4      Black  28  Female           Private  Married-civ-spouse\n",
      "...      ...  ..     ...               ...                 ...\n",
      "30718  White   *       *           Private             Married\n",
      "30719  White   *       *           Private         Not-married\n",
      "30720  White   *       *           Private         Not-married\n",
      "30721  White   *       *           Private         Not-married\n",
      "30722  White   *       *           Private             Married\n",
      "\n",
      "[30723 rows x 5 columns]\n"
     ]
    },
    {
     "name": "stderr",
     "output_type": "stream",
     "text": [
      "C:\\Users\\vrzo2\\AppData\\Local\\Temp\\ipykernel_26028\\1138017566.py:67: FutureWarning: Setting an item of incompatible dtype is deprecated and will raise an error in a future version of pandas. Value '['26-50' '26-50' '51-75' ... '51-75' '26-50' '26-50']' has dtype incompatible with int64, please explicitly cast to a compatible dtype first.\n",
      "  df_process.loc[can, attr] = df_process.loc[can].apply(\n"
     ]
    }
   ],
   "source": [
    "# ลำดับรอบ-โรบิน\n",
    "ATTR_ORDER = [\"Age\", \"Race\", \"Marital-status\", \"Sex\"]\n",
    "start_idx = 0  # เริ่มจาก Age (index 0)\n",
    "\n",
    "\n",
    "# map ชื่อคอลัมน์ -> ฟังก์ชัน VGH ที่นิยามไว้\n",
    "APPLY_VGH = {\n",
    "    \"Age\": vgh_age,\n",
    "    \"Race\": vgh_race,\n",
    "    \"Marital-status\": vgh_marital,\n",
    "    \"Sex\": vgh_sex,\n",
    "}\n",
    "\n",
    "# คอลัมน์เก็บระดับของแต่ละ QI (คุณมี A_lvl/R_lvl/M_lvl/S_lvl แล้ว)\n",
    "LVL_COL = {\"Age\": \"A_lvl\", \"Race\": \"R_lvl\", \"Marital-status\": \"M_lvl\", \"Sex\": \"S_lvl\"}\n",
    "\n",
    "max_iters = 200\n",
    "for it in range(max_iters):\n",
    "\n",
    "    # จับ EC → ตรวจ k → แยกผ่าน/ไม่ผ่าน\n",
    "    df_process, df_success = split_by_k(df_process, df_success, TARGET_K)\n",
    "    print(f\"[รอบที่่ {it+1}] ผ่าน {len(df_success)} - ไม่ผ่าน {len(df_process)}\")\n",
    "\n",
    "    # ถ้า df_process หมดแล้วให้หยุด\n",
    "    if len(df_process) == 0:\n",
    "        print(\"------------------------------------------------------------------------------\")\n",
    "        print(f\"เสร็จสิ้น!! ทุก Record ถูกทำให้ผ่านค่า K\")\n",
    "        # เครียร์ Attribute ที่บอก Domain ออก\n",
    "        df_success.drop(columns=[\"A_lvl\"], inplace=True)\n",
    "        df_success.drop(columns=[\"R_lvl\"], inplace=True)\n",
    "        df_success.drop(columns=[\"M_lvl\"], inplace=True)\n",
    "        df_success.drop(columns=[\"S_lvl\"], inplace=True)\n",
    "        # แสดงตัวอย่างข้อมูล\n",
    "        print(df_success)\n",
    "        df_success.to_csv(\"result_success.csv\", index=False, encoding=\"utf-8\")\n",
    "        break\n",
    "\n",
    "    # ถ้า record ใน df_process เหลือ < k ให้ลบ record ทิ้งแล้วหยุด\n",
    "    if len(df_process) < TARGET_K:\n",
    "        print(f\"!!!! Record ที่ยังไม่ผ่านค่า K เหลือ {len(df_process)} แถว ซึ่งน้อยกว่าค่า K = {TARGET_K} -> ลบ\")\n",
    "        # ลบ Record ที่เหลือทิ้ง\n",
    "        df_process = df_process.iloc[0:0].copy()\n",
    "        print(\"------------------------------------------------------------------------------\")\n",
    "        print(f\"เสร็จสิ้น!! แบบมีการลบบาง Record\")\n",
    "        # เครียร์ Attribute ที่บอก Domain ออก\n",
    "        df_success.drop(columns=[\"A_lvl\"], inplace=True)\n",
    "        df_success.drop(columns=[\"R_lvl\"], inplace=True)\n",
    "        df_success.drop(columns=[\"M_lvl\"], inplace=True)\n",
    "        df_success.drop(columns=[\"S_lvl\"], inplace=True)\n",
    "        # แสดงตัวอย่างข้อมูล\n",
    "        print(df_success)\n",
    "        df_success.to_csv(\"result_success.csv\", index=False, encoding=\"utf-8\")\n",
    "        break\n",
    "\n",
    "    # 4) ยกระดับ df_process ขึ้นทีละ 1 ระดับ แบบรอบ-โรบิน\n",
    "    bumped = False\n",
    "    for step in range(len(ATTR_ORDER)):\n",
    "        attr = ATTR_ORDER[(start_idx + step) % len(ATTR_ORDER)]\n",
    "        lvlc = LVL_COL[attr]\n",
    "        # หา Record ที่ attr level ยังไม่ max\n",
    "        can = df_process[lvlc] < MAX_LVL[attr]\n",
    "        if not can.any():\n",
    "            continue\n",
    "\n",
    "        # gen ค่าใหม่และเขียนทับลงไป\n",
    "        fn = APPLY_VGH[attr]\n",
    "        df_process.loc[can, attr] = df_process.loc[can].apply(\n",
    "            lambda r: fn(r[attr], r[lvlc] + 1), axis=1\n",
    "        )\n",
    "        # อัปเดต domain level ของ Attribute นั้น +1\n",
    "        df_process.loc[can, lvlc] = df_process.loc[can, lvlc] + 1\n",
    "\n",
    "        bumped = True\n",
    "        # กำหนด Attribute ตัวถัดไปที่จะ gen ในรอบถัดไป\n",
    "        start_idx = (start_idx + step + 1) % len(ATTR_ORDER)\n",
    "        break\n",
    "\n",
    "    # ถ้า gen ไม่ได้แล้ว (ทุก Attribute ชนเพดาน) ให้ลบทิ้งส่วนที่เหลือ\n",
    "    if not bumped:\n",
    "        print(f\"!!!! เพิ่มระดับต่อไม่ได้แล้ว (ชนเพดานทุกคอลัมน์) -> ลบ {len(df_process)} แถวที่ยังไม่ผ่าน\")\n",
    "        # ลบ Record ที่เหลือทิ้ง\n",
    "        df_process = df_process.iloc[0:0].copy()\n",
    "        print(\"------------------------------------------------------------------------------\")\n",
    "        print(f\"เสร็จสิ้น!! แบบมีการลบบาง Record\")\n",
    "        # เครียร์ Attribute ที่บอก Domain ออก\n",
    "        df_success.drop(columns=[\"A_lvl\"], inplace=True)\n",
    "        df_success.drop(columns=[\"R_lvl\"], inplace=True)\n",
    "        df_success.drop(columns=[\"M_lvl\"], inplace=True)\n",
    "        df_success.drop(columns=[\"S_lvl\"], inplace=True)\n",
    "        # แสดงตัวอย่างข้อมูล\n",
    "        print(df_success)\n",
    "        df_success.to_csv(\"result_success.csv\", index=False, encoding=\"utf-8\")\n",
    "        break"
   ]
  },
  {
   "cell_type": "code",
   "execution_count": null,
   "id": "9fef5382",
   "metadata": {},
   "outputs": [
    {
     "name": "stdout",
     "output_type": "stream",
     "text": [
      "                         Race     Age     Sex      Marital-status  ec_size\n",
      "572                     White      37    Male  Married-civ-spouse      409\n",
      "580                     White      38    Male  Married-civ-spouse      397\n",
      "610                     White      41    Male  Married-civ-spouse      375\n",
      "563                     White      36    Male  Married-civ-spouse      374\n",
      "543                     White      34    Male  Married-civ-spouse      370\n",
      "..                        ...     ...     ...                 ...      ...\n",
      "30   Amer-Indian-Eskimo+Other   26-50  Female             Widowed        4\n",
      "32   Amer-Indian-Eskimo+Other  51-100       *  Previously-married        4\n",
      "35   Amer-Indian-Eskimo+Other   51-75    Male  Previously-married        4\n",
      "874                     White    1-25  Female   Married-AF-spouse        4\n",
      "877                     White    1-25    Male  Married-civ-spouse        4\n",
      "\n",
      "[903 rows x 5 columns]\n"
     ]
    }
   ],
   "source": [
    "ec = df_success.groupby(QI_ATTRS, dropna=False).size().rename(\"ec_size\").reset_index().sort_values(\"ec_size\", ascending=True)  # เรียงจากมากไปน้อย\n",
    "print(ec)\n",
    "min = ec.min"
   ]
  }
 ],
 "metadata": {
  "kernelspec": {
   "display_name": "Python 3",
   "language": "python",
   "name": "python3"
  },
  "language_info": {
   "codemirror_mode": {
    "name": "ipython",
    "version": 3
   },
   "file_extension": ".py",
   "mimetype": "text/x-python",
   "name": "python",
   "nbconvert_exporter": "python",
   "pygments_lexer": "ipython3",
   "version": "3.13.7"
  }
 },
 "nbformat": 4,
 "nbformat_minor": 5
}
